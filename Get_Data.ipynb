{
 "cells": [
  {
   "cell_type": "code",
   "execution_count": 1,
   "metadata": {},
   "outputs": [],
   "source": [
    "import requests  \n",
    "from bs4 import BeautifulSoup \n",
    "import os\n",
    "\n",
    "import pandas as pd"
   ]
  },
  {
   "cell_type": "code",
   "execution_count": 2,
   "metadata": {},
   "outputs": [],
   "source": [
    "# The data retrieved from the NHANES repository site are limited to these years and variables\n",
    "\n",
    "year_letter = {2007:'E',2009:'F',2011:\"G\",2013:\"H\",2015:\"I\",2017:\"J\"}\n",
    "\n",
    "\n",
    "repo_vars = {\n",
    "    'DEMO': ['RIAGENDR','RIDAGEYR','RIDRETH1','DMDHREDU','DMDHREDZ','INDHHIN2'],#,'DMDBORN4'], # Demographic Questionaire\n",
    "    'ALQ': ['ALQ150','ALQ151'], # Alcohol Questionaire \n",
    "    'BPQ': ['BPQ020','BPQ080'], # Blood preasure Questionaire\n",
    "    'CDQ': ['CDQ001','CDQ010'], # Cardio health Questionaire\n",
    "    'DIQ': ['DIQ010', 'DID040'], # Diabetes Questionaire \n",
    "    'DBQ': ['DBQ197','DBD895','DBD900','DBD905','DBD910'], # Diet Questionaire\n",
    "    'KIQ_U': ['KIQ022','KIQ026','KIQ005'], # Kidneys Questionaire\n",
    "    'OCQ': ['OCD150', 'OCQ180'], # Occupation\n",
    "    'OHQ': ['OHQ011','OHQ845'], # Oral health Questionaire\n",
    "    'PAQ': ['PAQ605', 'PAQ620', 'PAQ635','PAQ650','PAQ665'], # Physical Activity Questionaire\n",
    "    'SLQ': ['SLD010H', 'SLD012'], # Sleep questionaire\n",
    "    'SMQ': ['SMQ020', 'SMQ040'], # Smoking Questionaire \n",
    "    'WHQ': ['WHD140'], # Weight history\n",
    "    'BMX': [ 'BMXWT','BMXBMI','BMXWAIST','BMXARML','BMXARMC','BMXLEG'], # Body measurements\n",
    "    'BPX': [ 'BPXPLS','BPXSY1', 'BPXDI1','BPXSY2', 'BPXDI2','BPXSY3', 'BPXDI3'], # Blood preasure measurements\n",
    "    'GLU': ['LBXGLU'], #Glucose measurement\n",
    "    'FASTQX': ['PHAFSTHR'], # Fasting time\n",
    "    'HDL': ['LBDHDD'], # High Cholesterol\n",
    "    'TRIGLY': ['LBXTR','LBDLDL'], # Low Chol + Triglycerides\n",
    "    'TCHOL': ['LBXTC'] # Total Cholesterol\n",
    "}\n"
   ]
  },
  {
   "cell_type": "code",
   "execution_count": 3,
   "metadata": {},
   "outputs": [],
   "source": [
    "# First we will get all links to data in neccessary repos\n",
    "\n",
    "url = \"https://wwwn.cdc.gov\"\n",
    "arch_url = \"https://wwwn.cdc.gov/nchs/nhanes/Search/DataPage.aspx?\" \n",
    "survey_type = ['Demographics','Questionnaire','Examination','Laboratory'] \n",
    "    \n",
    "    \n",
    "    \n",
    "data_links = []\n",
    "for year in year_letter.keys():\n",
    "    year_links = []\n",
    "    for survey in survey_type:\n",
    "        path = f'Component={survey}&CycleBeginYear={str(year)}'\n",
    "        archive_url = arch_url + path\n",
    "      \n",
    "        # create response object  \n",
    "        r = requests.get(archive_url)  \n",
    "      \n",
    "        # create beautiful-soup object  \n",
    "        soup = BeautifulSoup(r.content,'html.parser')  \n",
    "      \n",
    "        # find all links on web-page  \n",
    "        links = soup.findAll('a')  \n",
    "        \n",
    "        # filter the link sending with .xpt\n",
    "        links = [url + link['href'] \n",
    "                 for link in links if link['href'].endswith('XPT')]  \n",
    "        \n",
    "        year_links += links\n",
    "    data_links += [year_links]    \n",
    "   "
   ]
  },
  {
   "cell_type": "code",
   "execution_count": 4,
   "metadata": {},
   "outputs": [],
   "source": [
    "# read data links and retrieve desired files\n",
    "i = 0\n",
    "for year_links in data_links:\n",
    "    j = 0\n",
    "    for link in year_links: \n",
    "        file = link.split('/')[-1]\n",
    "        # Drop last _ and all following characters to get repo_vars key value\n",
    "        key = file[:file.rfind('_')]\n",
    "        if key in repo_vars.keys():\n",
    "            df_temp = pd.read_sas(link, index = 'SEQN')\n",
    "            cols = list(set(df_temp.columns.to_list()) & set(repo_vars[key]))\n",
    "            df_temp = df_temp[cols]\n",
    "            if j == 0:\n",
    "                df_year = df_temp\n",
    "                j += 1\n",
    "            else:\n",
    "                df_year = df_year.join(df_temp)\n",
    "    if i == 0:\n",
    "        df = df_year\n",
    "        i += 1\n",
    "    else:\n",
    "        df = pd.concat([df,df_year])\n",
    "        "
   ]
  },
  {
   "cell_type": "code",
   "execution_count": 5,
   "metadata": {},
   "outputs": [],
   "source": [
    "df.to_pickle(\"raw_data.pkl\")"
   ]
  },
  {
   "cell_type": "code",
   "execution_count": null,
   "metadata": {},
   "outputs": [],
   "source": []
  }
 ],
 "metadata": {
  "kernelspec": {
   "display_name": "Python 3",
   "language": "python",
   "name": "python3"
  },
  "language_info": {
   "codemirror_mode": {
    "name": "ipython",
    "version": 3
   },
   "file_extension": ".py",
   "mimetype": "text/x-python",
   "name": "python",
   "nbconvert_exporter": "python",
   "pygments_lexer": "ipython3",
   "version": "3.8.3"
  }
 },
 "nbformat": 4,
 "nbformat_minor": 4
}
