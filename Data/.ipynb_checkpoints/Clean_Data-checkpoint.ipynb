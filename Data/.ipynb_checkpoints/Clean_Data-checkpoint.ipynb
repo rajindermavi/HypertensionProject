{
 "cells": [
  {
   "cell_type": "code",
   "execution_count": 1,
   "metadata": {},
   "outputs": [],
   "source": [
    "import pandas as pd\n",
    "import numpy as np\n",
    "import seaborn as sns"
   ]
  },
  {
   "cell_type": "code",
   "execution_count": 2,
   "metadata": {},
   "outputs": [],
   "source": [
    "df = pd.read_pickle(\"raw_data.pkl\")"
   ]
  },
  {
   "cell_type": "code",
   "execution_count": 3,
   "metadata": {},
   "outputs": [
    {
     "data": {
      "text/plain": [
       "(39156, 25)"
      ]
     },
     "execution_count": 3,
     "metadata": {},
     "output_type": "execute_result"
    }
   ],
   "source": [
    "df.shape"
   ]
  },
  {
   "cell_type": "code",
   "execution_count": 4,
   "metadata": {},
   "outputs": [],
   "source": [
    "# Before we begin cleaning we drop SPs below age 20 \n",
    "df = df[df.RIDAGEYR >= 20]"
   ]
  },
  {
   "cell_type": "code",
   "execution_count": 5,
   "metadata": {},
   "outputs": [
    {
     "data": {
      "text/plain": [
       "(22617, 25)"
      ]
     },
     "execution_count": 5,
     "metadata": {},
     "output_type": "execute_result"
    }
   ],
   "source": [
    "df.shape"
   ]
  },
  {
   "cell_type": "code",
   "execution_count": 6,
   "metadata": {},
   "outputs": [
    {
     "data": {
      "text/html": [
       "<div>\n",
       "<style scoped>\n",
       "    .dataframe tbody tr th:only-of-type {\n",
       "        vertical-align: middle;\n",
       "    }\n",
       "\n",
       "    .dataframe tbody tr th {\n",
       "        vertical-align: top;\n",
       "    }\n",
       "\n",
       "    .dataframe thead th {\n",
       "        text-align: right;\n",
       "    }\n",
       "</style>\n",
       "<table border=\"1\" class=\"dataframe\">\n",
       "  <thead>\n",
       "    <tr style=\"text-align: right;\">\n",
       "      <th></th>\n",
       "      <th>RIAGENDR</th>\n",
       "      <th>RIDAGEYR</th>\n",
       "      <th>RIDRETH1</th>\n",
       "      <th>DMDBORN4</th>\n",
       "      <th>ALQ151</th>\n",
       "      <th>BPQ020</th>\n",
       "      <th>BPQ080</th>\n",
       "      <th>DIQ010</th>\n",
       "      <th>DID040</th>\n",
       "      <th>DBQ197</th>\n",
       "      <th>...</th>\n",
       "      <th>PAQ605</th>\n",
       "      <th>PAQ620</th>\n",
       "      <th>PAQ635</th>\n",
       "      <th>PAQ650</th>\n",
       "      <th>PAQ665</th>\n",
       "      <th>SMQ020</th>\n",
       "      <th>SMQ040</th>\n",
       "      <th>BPXSY1</th>\n",
       "      <th>BPXDI1</th>\n",
       "      <th>BMXBMI</th>\n",
       "    </tr>\n",
       "    <tr>\n",
       "      <th>SEQN</th>\n",
       "      <th></th>\n",
       "      <th></th>\n",
       "      <th></th>\n",
       "      <th></th>\n",
       "      <th></th>\n",
       "      <th></th>\n",
       "      <th></th>\n",
       "      <th></th>\n",
       "      <th></th>\n",
       "      <th></th>\n",
       "      <th></th>\n",
       "      <th></th>\n",
       "      <th></th>\n",
       "      <th></th>\n",
       "      <th></th>\n",
       "      <th></th>\n",
       "      <th></th>\n",
       "      <th></th>\n",
       "      <th></th>\n",
       "      <th></th>\n",
       "      <th></th>\n",
       "    </tr>\n",
       "  </thead>\n",
       "  <tbody>\n",
       "    <tr>\n",
       "      <th>62161.0</th>\n",
       "      <td>1.0</td>\n",
       "      <td>22.0</td>\n",
       "      <td>3.0</td>\n",
       "      <td>1.0</td>\n",
       "      <td>NaN</td>\n",
       "      <td>2.0</td>\n",
       "      <td>2.0</td>\n",
       "      <td>2.0</td>\n",
       "      <td>NaN</td>\n",
       "      <td>3.000000e+00</td>\n",
       "      <td>...</td>\n",
       "      <td>2.0</td>\n",
       "      <td>2.0</td>\n",
       "      <td>2.0</td>\n",
       "      <td>2.0</td>\n",
       "      <td>2.0</td>\n",
       "      <td>2.0</td>\n",
       "      <td>NaN</td>\n",
       "      <td>110.0</td>\n",
       "      <td>82.0</td>\n",
       "      <td>23.3</td>\n",
       "    </tr>\n",
       "    <tr>\n",
       "      <th>62164.0</th>\n",
       "      <td>2.0</td>\n",
       "      <td>44.0</td>\n",
       "      <td>3.0</td>\n",
       "      <td>1.0</td>\n",
       "      <td>NaN</td>\n",
       "      <td>2.0</td>\n",
       "      <td>2.0</td>\n",
       "      <td>2.0</td>\n",
       "      <td>NaN</td>\n",
       "      <td>5.397605e-79</td>\n",
       "      <td>...</td>\n",
       "      <td>1.0</td>\n",
       "      <td>2.0</td>\n",
       "      <td>2.0</td>\n",
       "      <td>1.0</td>\n",
       "      <td>1.0</td>\n",
       "      <td>2.0</td>\n",
       "      <td>NaN</td>\n",
       "      <td>116.0</td>\n",
       "      <td>56.0</td>\n",
       "      <td>23.2</td>\n",
       "    </tr>\n",
       "    <tr>\n",
       "      <th>62169.0</th>\n",
       "      <td>1.0</td>\n",
       "      <td>21.0</td>\n",
       "      <td>5.0</td>\n",
       "      <td>1.0</td>\n",
       "      <td>2.0</td>\n",
       "      <td>2.0</td>\n",
       "      <td>2.0</td>\n",
       "      <td>2.0</td>\n",
       "      <td>NaN</td>\n",
       "      <td>1.000000e+00</td>\n",
       "      <td>...</td>\n",
       "      <td>2.0</td>\n",
       "      <td>2.0</td>\n",
       "      <td>2.0</td>\n",
       "      <td>2.0</td>\n",
       "      <td>2.0</td>\n",
       "      <td>2.0</td>\n",
       "      <td>NaN</td>\n",
       "      <td>124.0</td>\n",
       "      <td>80.0</td>\n",
       "      <td>20.1</td>\n",
       "    </tr>\n",
       "    <tr>\n",
       "      <th>62172.0</th>\n",
       "      <td>2.0</td>\n",
       "      <td>43.0</td>\n",
       "      <td>4.0</td>\n",
       "      <td>1.0</td>\n",
       "      <td>2.0</td>\n",
       "      <td>2.0</td>\n",
       "      <td>2.0</td>\n",
       "      <td>2.0</td>\n",
       "      <td>NaN</td>\n",
       "      <td>3.000000e+00</td>\n",
       "      <td>...</td>\n",
       "      <td>2.0</td>\n",
       "      <td>2.0</td>\n",
       "      <td>2.0</td>\n",
       "      <td>2.0</td>\n",
       "      <td>2.0</td>\n",
       "      <td>1.0</td>\n",
       "      <td>1.0</td>\n",
       "      <td>100.0</td>\n",
       "      <td>70.0</td>\n",
       "      <td>33.3</td>\n",
       "    </tr>\n",
       "    <tr>\n",
       "      <th>62174.0</th>\n",
       "      <td>1.0</td>\n",
       "      <td>80.0</td>\n",
       "      <td>3.0</td>\n",
       "      <td>1.0</td>\n",
       "      <td>2.0</td>\n",
       "      <td>1.0</td>\n",
       "      <td>1.0</td>\n",
       "      <td>2.0</td>\n",
       "      <td>NaN</td>\n",
       "      <td>2.000000e+00</td>\n",
       "      <td>...</td>\n",
       "      <td>2.0</td>\n",
       "      <td>2.0</td>\n",
       "      <td>2.0</td>\n",
       "      <td>2.0</td>\n",
       "      <td>2.0</td>\n",
       "      <td>2.0</td>\n",
       "      <td>NaN</td>\n",
       "      <td>NaN</td>\n",
       "      <td>NaN</td>\n",
       "      <td>33.9</td>\n",
       "    </tr>\n",
       "  </tbody>\n",
       "</table>\n",
       "<p>5 rows × 25 columns</p>\n",
       "</div>"
      ],
      "text/plain": [
       "         RIAGENDR  RIDAGEYR  RIDRETH1  DMDBORN4  ALQ151  BPQ020  BPQ080  \\\n",
       "SEQN                                                                      \n",
       "62161.0       1.0      22.0       3.0       1.0     NaN     2.0     2.0   \n",
       "62164.0       2.0      44.0       3.0       1.0     NaN     2.0     2.0   \n",
       "62169.0       1.0      21.0       5.0       1.0     2.0     2.0     2.0   \n",
       "62172.0       2.0      43.0       4.0       1.0     2.0     2.0     2.0   \n",
       "62174.0       1.0      80.0       3.0       1.0     2.0     1.0     1.0   \n",
       "\n",
       "         DIQ010  DID040        DBQ197  ...  PAQ605  PAQ620  PAQ635  PAQ650  \\\n",
       "SEQN                                   ...                                   \n",
       "62161.0     2.0     NaN  3.000000e+00  ...     2.0     2.0     2.0     2.0   \n",
       "62164.0     2.0     NaN  5.397605e-79  ...     1.0     2.0     2.0     1.0   \n",
       "62169.0     2.0     NaN  1.000000e+00  ...     2.0     2.0     2.0     2.0   \n",
       "62172.0     2.0     NaN  3.000000e+00  ...     2.0     2.0     2.0     2.0   \n",
       "62174.0     2.0     NaN  2.000000e+00  ...     2.0     2.0     2.0     2.0   \n",
       "\n",
       "         PAQ665  SMQ020  SMQ040  BPXSY1  BPXDI1  BMXBMI  \n",
       "SEQN                                                     \n",
       "62161.0     2.0     2.0     NaN   110.0    82.0    23.3  \n",
       "62164.0     1.0     2.0     NaN   116.0    56.0    23.2  \n",
       "62169.0     2.0     2.0     NaN   124.0    80.0    20.1  \n",
       "62172.0     2.0     1.0     1.0   100.0    70.0    33.3  \n",
       "62174.0     2.0     2.0     NaN     NaN     NaN    33.9  \n",
       "\n",
       "[5 rows x 25 columns]"
      ]
     },
     "execution_count": 6,
     "metadata": {},
     "output_type": "execute_result"
    }
   ],
   "source": [
    "# Let us view the data\n",
    "df.head()"
   ]
  },
  {
   "cell_type": "code",
   "execution_count": 7,
   "metadata": {},
   "outputs": [
    {
     "data": {
      "text/plain": [
       "RIAGENDR        0\n",
       "RIDAGEYR        0\n",
       "RIDRETH1        0\n",
       "DMDBORN4        0\n",
       "ALQ151       5846\n",
       "BPQ020          0\n",
       "BPQ080          1\n",
       "DIQ010          0\n",
       "DID040      19475\n",
       "DBQ197          0\n",
       "DBD895          0\n",
       "DBD900       5453\n",
       "KIQ022          1\n",
       "KIQ026          1\n",
       "KIQ005       3007\n",
       "PAQ605          0\n",
       "PAQ620          0\n",
       "PAQ635          0\n",
       "PAQ650          0\n",
       "PAQ665          0\n",
       "SMQ020          1\n",
       "SMQ040      12996\n",
       "BPXSY1       2831\n",
       "BPXDI1       2831\n",
       "BMXBMI       1279\n",
       "dtype: int64"
      ]
     },
     "execution_count": 7,
     "metadata": {},
     "output_type": "execute_result"
    }
   ],
   "source": [
    "# Let us view the number of missing values in each column:  \n",
    "df.isna().sum(axis=0)\n"
   ]
  },
  {
   "cell_type": "code",
   "execution_count": 8,
   "metadata": {},
   "outputs": [
    {
     "data": {
      "text/plain": [
       "RIAGENDR       0\n",
       "RIDAGEYR       0\n",
       "RIDRETH1       0\n",
       "DMDBORN4       0\n",
       "ALQ151      4179\n",
       "BPQ020         0\n",
       "BPQ080         1\n",
       "DIQ010         0\n",
       "DID040         3\n",
       "DBQ197         0\n",
       "DBD895         0\n",
       "DBD900        19\n",
       "KIQ022         1\n",
       "KIQ026         1\n",
       "KIQ005      1603\n",
       "PAQ605         0\n",
       "PAQ620         0\n",
       "PAQ635         0\n",
       "PAQ650         0\n",
       "PAQ665         0\n",
       "SMQ020         1\n",
       "SMQ040         1\n",
       "BPXSY1         0\n",
       "BPXDI1         0\n",
       "BMXBMI       221\n",
       "dtype: int64"
      ]
     },
     "execution_count": 8,
     "metadata": {},
     "output_type": "execute_result"
    }
   ],
   "source": [
    "# Note some columns are missing a significant number of values.\n",
    "# Most of these are due to the survey coding skipping certain questions based on previous answers,\n",
    "# we will fill in these values first. \n",
    "\n",
    "# If SP has not been told they have diabetes, then no age value.\n",
    "# First we will simplify the diabetes column\n",
    "# DIQ010 (refused / don't know/ missing) --> No\n",
    "df.loc[(df['DIQ010'] == 7) | (df['DIQ010'] == 9),'DIQ010'] = np.nan\n",
    "df.loc[df.DIQ010.isna(),'DIQ010'] = 2 \n",
    "# Simplify diabetes age column\n",
    "# replace < 1 yr w 1 and (refused / don't know) --> median\n",
    "df.loc[(df['DID040'] == 666),'DID040'] = 1  \n",
    "df.loc[(df['DID040'] == 777) | (df['DID040'] == 999) ,'DID040'] = df['DID040'].median() \n",
    "# Code <= 40 or > 40\n",
    "df.loc[(df['DID040'] <= 40),'DID040'] = 1 \n",
    "df.loc[(df['DID040'] > 40),'DID040'] = 3  \n",
    "# For those told they have borderline case add new code \n",
    "df.loc[(df['DIQ010'] == 3),'DID040'] = 2  \n",
    "# For those not told they have diabetes, add new code\n",
    "df.loc[(df['DIQ010'] == 2),'DID040'] = 0   \n",
    "\n",
    "# For the Fast food we will fill in 0 if no meals were eaten out\n",
    "df.loc[(df['DBD895'] < .5),'DBD900'] = 0    \n",
    "\n",
    "# If SP has not smoked 100 cigarettes, then not currently smoking\n",
    "df.loc[(df['SMQ020'] > 1),'SMQ040'] = 3    \n",
    "\n",
    "# We need the target values: the blood preasure measurements, so we drop those rows missing these values\n",
    "\n",
    "df = df[(1-df.BPXSY1.isna()).apply(bool)]\n",
    "df = df[(1-df.BPXDI1.isna()).apply(bool)]\n",
    "\n",
    "# Now let us view missing values again\n",
    "df.isna().sum(axis=0)"
   ]
  },
  {
   "cell_type": "code",
   "execution_count": 9,
   "metadata": {},
   "outputs": [
    {
     "data": {
      "text/plain": [
       "0    15454\n",
       "1     2693\n",
       "2     1584\n",
       "3       54\n",
       "7        1\n",
       "dtype: int64"
      ]
     },
     "execution_count": 9,
     "metadata": {},
     "output_type": "execute_result"
    }
   ],
   "source": [
    "# This is much better!\n",
    "\n",
    "# Viewing the number of missing values per row we find the majority have 2 or fewer\n",
    "df.isna().sum(axis=1).value_counts()"
   ]
  },
  {
   "cell_type": "code",
   "execution_count": 10,
   "metadata": {},
   "outputs": [],
   "source": [
    "# We will clean each survey one at a time, beginning with the Demographics survey.\n",
    "\n",
    "# Demographics\n",
    "# RIDAGEYR age  \n",
    "# RIAGENDR gender OK\n",
    "# RIDRETH1 ethnicity OK\n",
    "# DMDBORN4 origin\n",
    "# (Refused / Don't know) --> (Others)\n",
    "df.loc[ (df['DMDBORN4'] == 77) | (df['DMDBORN4'] == 99), 'DMDBORN4'] = 2 \n",
    "\n",
    "df = df.rename(columns={'RIAGENDR':'Gender','RIDAGEYR':'Age','RIDRETH1':'Ethnicity','DMDBORN4':'Origin'})"
   ]
  },
  {
   "cell_type": "code",
   "execution_count": 11,
   "metadata": {},
   "outputs": [],
   "source": [
    "# Alcohol \n",
    "# ALQ151 `Ever have 4/5 or more drinks every day?'\n",
    "# ALQ151 fill refused/ don't know/ missing values w/ No\n",
    "df.loc[ (df['ALQ151'] == 7) | (df['ALQ151'] == 9), 'ALQ151'] = np.nan\n",
    "df.loc[df['ALQ151'].isna(), 'ALQ151'] = 2\n",
    "\n",
    "df = df.rename(columns={'ALQ151':'Alcohol'})"
   ]
  },
  {
   "cell_type": "code",
   "execution_count": 12,
   "metadata": {},
   "outputs": [],
   "source": [
    "# Blood Pressure & Cholesterol\n",
    "\n",
    "# Told you have Hypertension -- refused / don't know / missing --> No \n",
    "df.loc[ (df['BPQ020'] == 7) | (df['BPQ020'] == 9), 'BPQ020'] = np.nan\n",
    "df.loc[df['BPQ020'].isna(), 'BPQ020'] = 2\n",
    "    \n",
    "# Told High Cholestorol -- refused / don't know / missing --> No \n",
    "df.loc[ (df['BPQ080'] == 7) | (df['BPQ080'] == 9), 'BPQ080'] = np.nan\n",
    "df.loc[df['BPQ080'].isna(), 'BPQ080'] = 2 \n",
    "\n",
    "df = df.rename(columns={'BPQ020':'HT_YN','BPQ080':'CH0L_YN'})"
   ]
  },
  {
   "cell_type": "code",
   "execution_count": 13,
   "metadata": {},
   "outputs": [],
   "source": [
    "# Diabetes\n",
    "\n",
    "# Fill in missing value in DID040 with code 0 -- not told have diabetes\n",
    "df.loc[df.DID040.isna(), 'DID040'] = 0  \n",
    "# DIQ010 is now redundant, we drop this column \n",
    "df = df.drop(['DIQ010'],axis = 1)\n",
    "\n",
    "df = df.rename(columns={'DID040':'Diabetes'})"
   ]
  },
  {
   "cell_type": "code",
   "execution_count": 14,
   "metadata": {},
   "outputs": [],
   "source": [
    "# Diet Behavior & Nutrition\n",
    "\n",
    "# Past 30 days milk consumption.\n",
    "# 'DBQ197' Milk consumption\n",
    "# Default = Sometimes\n",
    "df.loc[(df.DBQ197 > 3), 'DBQ197'] = 2 \n",
    "df.loc[(df.DBQ197.isna()), 'DBQ197'] = 2  \n",
    "\n",
    "# How many meals out of the home?\n",
    "# DBD895 > 21 meals -> 22 meals\n",
    "df.loc[(df.DBD895 == 5555), 'DBD895'] = 22\n",
    "# replace (refused / don't know/ missing ) --> median value\n",
    "df.loc[(df.DBD895 == 7777) | (df.DBD895 == 9999), 'DBD895'] = np.nan\n",
    "df.loc[df.DBD895.isna(), 'DBD895'] = df.DBD895.median()\n",
    "\n",
    "# How many fast food meals?\n",
    "# DBD900 \n",
    "df.loc[(df.DBD895 == 0), 'DBD900'] = 0 \n",
    "# DBD900 > 22 meals -> 22 meals\n",
    "df.loc[(df.DBD900 == 5555), 'DBD900'] = 22  \n",
    "# replace (refused / don't know / missing) --> median value\n",
    "df.loc[(df.DBD900 == 7777) | (df.DBD900 == 9999), 'DBD900'] = np.nan\n",
    "df.loc[df.DBD900.isna(), 'DBD900'] = df.DBD900.median() \n",
    "\n",
    "df = df.rename(columns={'DBQ197':'Milk','DBD895':'Meals_Out','DBD900':'Fast_Food'})"
   ]
  },
  {
   "cell_type": "code",
   "execution_count": 15,
   "metadata": {},
   "outputs": [],
   "source": [
    "\n",
    "# Kidney questionaire\n",
    "    \n",
    "# Told Weak kidney (refused / don't know/ missing) --> No\n",
    "df.loc[(df.KIQ022 == 7) | (df.KIQ022 == 9),'KIQ022'] = np.nan\n",
    "df.loc[df.KIQ022.isna(),'KIQ022'] = 2 \n",
    "    \n",
    "# Kidney stones (refused / don't know/ missing) --> No\n",
    "df.loc[(df.KIQ026 == 7) | (df.KIQ026 == 9),'KIQ026'] = np.nan\n",
    "df.loc[df.KIQ026.isna(), 'KIQ026'] = 2  \n",
    "    \n",
    "# Urinary leakage (refused / don't know/ missing --> Never\n",
    "df.loc[(df.KIQ005 == 7) | (df.KIQ005 == 9),'KIQ005'] = np.nan\n",
    "df.loc[df.KIQ005.isna(),'KIQ005'] = 0   \n",
    "\n",
    "df = df.rename(columns={'KIQ022':'Weak_Kidneys','KIQ026':'Kidney_Stones','KIQ005':'Urine_Leak'})"
   ]
  },
  {
   "cell_type": "code",
   "execution_count": 16,
   "metadata": {},
   "outputs": [],
   "source": [
    "# Physical Activity questionaire\n",
    "    \n",
    "# Vig work  (refused / don't know/ missing) --> No\n",
    "df.loc[(df.PAQ605 == 7) | (df.PAQ605 == 9),'PAQ605'] = np.nan\n",
    "df.loc[df.PAQ605.isna(),'PAQ605'] = 2    \n",
    "    \n",
    "# Moderate work  (refused / don't know/ missing) --> No\n",
    "df.loc[(df.PAQ620 == 7) | (df.PAQ620 == 9),'PAQ620'] = np.nan\n",
    "df.loc[df.PAQ620.isna(),'PAQ620'] = 2  \n",
    "    \n",
    "# Combine moderate and vigorous work\n",
    "df['Work_Act'] = df[['PAQ605','PAQ620']].min(axis=1)\n",
    "df = df.drop(['PAQ605','PAQ620'],axis = 1)\n",
    "\n",
    "# Walk / Bike\n",
    "# (refused / don't know / missing) --> No\n",
    "df.loc[(df.PAQ635 == 7) | (df.PAQ635 == 9),'PAQ635'] = np.nan\n",
    "df.loc[df.PAQ635.isna(),'PAQ635'] = 2     \n",
    "        \n",
    "# Vig rec (refused / don't know/ missing) --> No\n",
    "df.loc[(df.PAQ650 == 7) | (df.PAQ650 == 9),'PAQ650'] = np.nan\n",
    "df.loc[df.PAQ650.isna(),'PAQ650'] = 2     \n",
    "    \n",
    "# Moderate rec  (refused / don't know/ missing) --> No\n",
    "df.loc[(df.PAQ665 == 7) | (df.PAQ665 == 9),'PAQ665'] = np.nan\n",
    "df.loc[df.PAQ665.isna(),'PAQ665'] = 2    \n",
    "    \n",
    "# Combine moderate and vigorous rec \n",
    "df['Rec_Act'] = df[['PAQ650','PAQ665']].min(axis=1)\n",
    "df = df.drop(['PAQ650','PAQ665'],axis = 1)\n",
    "\n",
    "df = df.rename(columns={'PAQ635':'WalkBike'})\n"
   ]
  },
  {
   "cell_type": "code",
   "execution_count": 17,
   "metadata": {},
   "outputs": [],
   "source": [
    "\n",
    "# Smoking\n",
    "    \n",
    "# Smoking 100 (refused / don't know/ missing) --> No\n",
    "df.loc[(df.SMQ020 == 7) | (df.SMQ020 == 9),'SMQ020'] = np.nan\n",
    "df.loc[df.SMQ020.isna(),'SMQ020'] = 2   \n",
    "    \n",
    "# Smoking 100 = No >> Currently Smoking = No\n",
    "df.loc[(df.SMQ020 == 2),'SMQ040'] = 3 \n",
    "    \n",
    "# Currently Smoking (refused / don't know/ missing) --> No\n",
    "df.loc[(df.SMQ040 == 7) | (df.SMQ040 == 9),'SMQ040'] = np.nan\n",
    "df.loc[df.SMQ040.isna(),'SMQ040'] = 3   \n",
    "    \n",
    "\n",
    "df = df.rename(columns={'SMQ020':'Smoke_100','SMQ040':'Smoke_now'})"
   ]
  },
  {
   "cell_type": "code",
   "execution_count": 18,
   "metadata": {},
   "outputs": [],
   "source": [
    "# Body measurement\n",
    "\n",
    "# BMXBMI BMI measurement\n",
    "# replace missing with median\n",
    "df.BMXBMI.loc[(df.BMXBMI.isna())] = df.BMXBMI.median()\n",
    "\n",
    "df = df.rename(columns={'BMXBMI':'BMI'})"
   ]
  },
  {
   "cell_type": "code",
   "execution_count": 19,
   "metadata": {},
   "outputs": [],
   "source": [
    "# Let us add a new feature encoding Non-elevated, Elevated, and High blood preasure\n",
    "\n",
    "df['HT_Diag'] = -1\n",
    "df.loc[(df.BPXSY1 < 120) & (df.BPXDI1 < 80),'HT_Diag'] = 0 \n",
    "df.loc[(df.BPXSY1 >= 120) & (df.BPXDI1 < 80),'HT_Diag'] = 1 \n",
    "df.loc[(df.BPXSY1 >= 130) | (df.BPXDI1 >= 80),'HT_Diag'] = 2  "
   ]
  },
  {
   "cell_type": "code",
   "execution_count": 20,
   "metadata": {},
   "outputs": [
    {
     "data": {
      "text/plain": [
       "2    8591\n",
       "0    7908\n",
       "1    3287\n",
       "Name: HT_Diag, dtype: int64"
      ]
     },
     "execution_count": 20,
     "metadata": {},
     "output_type": "execute_result"
    }
   ],
   "source": [
    "df.HT_Diag.value_counts()"
   ]
  },
  {
   "cell_type": "code",
   "execution_count": 21,
   "metadata": {},
   "outputs": [
    {
     "data": {
      "text/plain": [
       "Gender           0\n",
       "Age              0\n",
       "Ethnicity        0\n",
       "Origin           0\n",
       "Alcohol          0\n",
       "HT_YN            0\n",
       "CH0L_YN          0\n",
       "Diabetes         0\n",
       "Milk             0\n",
       "Meals_Out        0\n",
       "Fast_Food        0\n",
       "Weak_Kidneys     0\n",
       "Kidney_Stones    0\n",
       "Urine_Leak       0\n",
       "WalkBike         0\n",
       "Smoke_100        0\n",
       "Smoke_now        0\n",
       "BPXSY1           0\n",
       "BPXDI1           0\n",
       "BMI              0\n",
       "Work_Act         0\n",
       "Rec_Act          0\n",
       "HT_Diag          0\n",
       "dtype: int64"
      ]
     },
     "execution_count": 21,
     "metadata": {},
     "output_type": "execute_result"
    }
   ],
   "source": [
    "df.isna().sum(axis=0)"
   ]
  },
  {
   "cell_type": "code",
   "execution_count": 22,
   "metadata": {},
   "outputs": [
    {
     "data": {
      "text/plain": [
       "2    8591\n",
       "0    7908\n",
       "1    3287\n",
       "Name: HT_Diag, dtype: int64"
      ]
     },
     "execution_count": 22,
     "metadata": {},
     "output_type": "execute_result"
    }
   ],
   "source": [
    "df.HT_Diag.value_counts()"
   ]
  },
  {
   "cell_type": "code",
   "execution_count": 23,
   "metadata": {},
   "outputs": [],
   "source": [
    "df.to_pickle(\"clean_data.pkl\")"
   ]
  },
  {
   "cell_type": "code",
   "execution_count": 24,
   "metadata": {},
   "outputs": [
    {
     "data": {
      "image/png": "[encoded data removed]",
      "text/plain": [
       "<Figure size 432x288 with 1 Axes>"
      ]
     },
     "metadata": {
      "needs_background": "light"
     },
     "output_type": "display_data"
    }
   ],
   "source": [
    "# Before we continue notice the categories of Diabetes are mixed numerical and categorical\n",
    "# 0 SP Not told has diabetes\n",
    "# 1 SP Told has diabetes when under 40\n",
    "# 2 SP Told borderline diabetes\n",
    "# 3 SP Told has diabetes when over 40\n",
    "# Let's check that our encoding makes sense\n",
    "\n",
    "\n",
    "ax = sns.violinplot(x = 'Diabetes', y = 'HT_Diag', data = df)"
   ]
  },
  {
   "cell_type": "code",
   "execution_count": 25,
   "metadata": {},
   "outputs": [],
   "source": [
    "# Now we can see increase in the Diabetes index correlates to increasing probability of Hypertension, which validates the index."
   ]
  }
 ],
 "metadata": {
  "kernelspec": {
   "display_name": "Python 3",
   "language": "python",
   "name": "python3"
  },
  "language_info": {
   "codemirror_mode": {
    "name": "ipython",
    "version": 3
   },
   "file_extension": ".py",
   "mimetype": "text/x-python",
   "name": "python",
   "nbconvert_exporter": "python",
   "pygments_lexer": "ipython3",
   "version": "3.8.3"
  }
 },
 "nbformat": 4,
 "nbformat_minor": 4
}
