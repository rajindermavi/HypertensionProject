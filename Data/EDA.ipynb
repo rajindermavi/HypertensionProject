{
 "cells": [
  {
   "cell_type": "code",
   "execution_count": null,
   "metadata": {},
   "outputs": [],
   "source": [
    "import pandas as pd\n",
    "import numpy as np\n",
    "import seaborn as sns"
   ]
  },
  {
   "cell_type": "code",
   "execution_count": null,
   "metadata": {},
   "outputs": [],
   "source": [
    "df = pd.read_pickle(\"raw_data.pkl\")"
   ]
  },
  {
   "cell_type": "code",
   "execution_count": null,
   "metadata": {},
   "outputs": [],
   "source": [
    "# Before we continue notice the categories of Diabetes are mixed numerical and categorical\n",
    "# 0 SP Not told has diabetes\n",
    "# 1 SP Told has diabetes when under 40\n",
    "# 2 SP Told borderline diabetes\n",
    "# 3 SP Told has diabetes when over 40\n",
    "# Let's check that our encoding makes sense\n",
    "\n",
    "\n",
    "ax = sns.violinplot(x = 'Diabetes', y = 'HT_Diag', data = df)"
   ]
  },
  {
   "cell_type": "code",
   "execution_count": null,
   "metadata": {},
   "outputs": [],
   "source": [
    "# Now we can see increase in the Diabetes index correlates to increasing probability of Hypertension, which validates the index."
   ]
  }
 ],
 "metadata": {
  "kernelspec": {
   "display_name": "Python 3",
   "language": "python",
   "name": "python3"
  },
  "language_info": {
   "codemirror_mode": {
    "name": "ipython",
    "version": 3
   },
   "file_extension": ".py",
   "mimetype": "text/x-python",
   "name": "python",
   "nbconvert_exporter": "python",
   "pygments_lexer": "ipython3",
   "version": "3.8.3"
  }
 },
 "nbformat": 4,
 "nbformat_minor": 4
}
