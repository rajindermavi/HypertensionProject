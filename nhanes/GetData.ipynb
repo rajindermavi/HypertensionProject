{
 "metadata": {
  "language_info": {
   "codemirror_mode": {
    "name": "ipython",
    "version": 3
   },
   "file_extension": ".py",
   "mimetype": "text/x-python",
   "name": "python",
   "nbconvert_exporter": "python",
   "pygments_lexer": "ipython3",
   "version": "3.9.5"
  },
  "orig_nbformat": 4,
  "kernelspec": {
   "name": "python3",
   "display_name": "Python 3.9.5 64-bit"
  },
  "interpreter": {
   "hash": "31f2aee4e71d21fbe5cf8b01ff0e069b9275f58929596ceb00d14d90e3e16cd6"
  }
 },
 "nbformat": 4,
 "nbformat_minor": 2,
 "cells": [
  {
   "cell_type": "code",
   "execution_count": 1,
   "metadata": {},
   "outputs": [],
   "source": [
    "from get_data import NHANES"
   ]
  },
  {
   "cell_type": "code",
   "execution_count": 2,
   "metadata": {},
   "outputs": [
    {
     "output_type": "stream",
     "name": "stdout",
     "text": [
      "Fetching repos ... \n",
      "https://wwwn.cdc.gov/Nchs/Nhanes/2005-2006/DEMO_D.XPT\n",
      "https://wwwn.cdc.gov/Nchs/Nhanes/2005-2006/ALQ_D.XPT\n",
      "https://wwwn.cdc.gov/Nchs/Nhanes/2005-2006/BPQ_D.XPT\n",
      "https://wwwn.cdc.gov/Nchs/Nhanes/2005-2006/CDQ_D.XPT\n",
      "https://wwwn.cdc.gov/Nchs/Nhanes/2005-2006/DIQ_D.XPT\n",
      "https://wwwn.cdc.gov/Nchs/Nhanes/2005-2006/DBQ_D.XPT\n",
      "https://wwwn.cdc.gov/Nchs/Nhanes/2005-2006/DPQ_D.XPT\n",
      "https://wwwn.cdc.gov/Nchs/Nhanes/2005-2006/KIQ_U_D.XPT\n",
      "https://wwwn.cdc.gov/Nchs/Nhanes/2005-2006/OCQ_D.XPT\n",
      "https://wwwn.cdc.gov/Nchs/Nhanes/2005-2006/OHQ_D.XPT\n",
      "https://wwwn.cdc.gov/Nchs/Nhanes/2005-2006/PAQ_D.XPT\n",
      "https://wwwn.cdc.gov/Nchs/Nhanes/2005-2006/PUQMEC_D.XPT\n",
      "https://wwwn.cdc.gov/Nchs/Nhanes/2005-2006/RHQ_D.XPT\n",
      "https://wwwn.cdc.gov/Nchs/Nhanes/2005-2006/SLQ_D.XPT\n",
      "https://wwwn.cdc.gov/Nchs/Nhanes/2005-2006/SMQ_D.XPT\n",
      "https://wwwn.cdc.gov/Nchs/Nhanes/2005-2006/WHQ_D.XPT\n",
      "https://wwwn.cdc.gov/Nchs/Nhanes/2005-2006/BMX_D.XPT\n",
      "https://wwwn.cdc.gov/Nchs/Nhanes/2005-2006/BPX_D.XPT\n",
      "https://wwwn.cdc.gov/Nchs/Nhanes/2005-2006/GLU_D.XPT\n",
      "https://wwwn.cdc.gov/Nchs/Nhanes/2005-2006/FASTQX_D.XPT\n",
      "https://wwwn.cdc.gov/Nchs/Nhanes/2005-2006/HDL_D.XPT\n",
      "https://wwwn.cdc.gov/Nchs/Nhanes/2005-2006/TRIGLY_D.XPT\n",
      "https://wwwn.cdc.gov/Nchs/Nhanes/2005-2006/TCHOL_D.XPT\n",
      "https://wwwn.cdc.gov/Nchs/Nhanes/2007-2008/DEMO_E.XPT\n",
      "https://wwwn.cdc.gov/Nchs/Nhanes/2007-2008/ALQ_E.XPT\n",
      "https://wwwn.cdc.gov/Nchs/Nhanes/2007-2008/BPQ_E.XPT\n",
      "https://wwwn.cdc.gov/Nchs/Nhanes/2007-2008/CDQ_E.XPT\n",
      "https://wwwn.cdc.gov/Nchs/Nhanes/2007-2008/DIQ_E.XPT\n",
      "https://wwwn.cdc.gov/Nchs/Nhanes/2007-2008/DBQ_E.XPT\n",
      "https://wwwn.cdc.gov/Nchs/Nhanes/2007-2008/DPQ_E.XPT\n",
      "https://wwwn.cdc.gov/Nchs/Nhanes/2007-2008/KIQ_U_E.XPT\n",
      "https://wwwn.cdc.gov/Nchs/Nhanes/2007-2008/OCQ_E.XPT\n",
      "https://wwwn.cdc.gov/Nchs/Nhanes/2007-2008/OHQ_E.XPT\n",
      "https://wwwn.cdc.gov/Nchs/Nhanes/2007-2008/PAQ_E.XPT\n",
      "https://wwwn.cdc.gov/Nchs/Nhanes/2007-2008/PUQMEC_E.XPT\n",
      "https://wwwn.cdc.gov/Nchs/Nhanes/2007-2008/RHQ_E.XPT\n",
      "https://wwwn.cdc.gov/Nchs/Nhanes/2007-2008/SLQ_E.XPT\n",
      "https://wwwn.cdc.gov/Nchs/Nhanes/2007-2008/SMQ_E.XPT\n",
      "https://wwwn.cdc.gov/Nchs/Nhanes/2007-2008/WHQ_E.XPT\n",
      "https://wwwn.cdc.gov/Nchs/Nhanes/2007-2008/BMX_E.XPT\n",
      "https://wwwn.cdc.gov/Nchs/Nhanes/2007-2008/BPX_E.XPT\n",
      "https://wwwn.cdc.gov/Nchs/Nhanes/2007-2008/GLU_E.XPT\n",
      "https://wwwn.cdc.gov/Nchs/Nhanes/2007-2008/FASTQX_E.XPT\n",
      "https://wwwn.cdc.gov/Nchs/Nhanes/2007-2008/HDL_E.XPT\n",
      "https://wwwn.cdc.gov/Nchs/Nhanes/2007-2008/TRIGLY_E.XPT\n",
      "https://wwwn.cdc.gov/Nchs/Nhanes/2007-2008/TCHOL_E.XPT\n",
      "https://wwwn.cdc.gov/Nchs/Nhanes/2009-2010/DEMO_F.XPT\n",
      "https://wwwn.cdc.gov/Nchs/Nhanes/2009-2010/ALQ_F.XPT\n",
      "https://wwwn.cdc.gov/Nchs/Nhanes/2009-2010/BPQ_F.XPT\n",
      "https://wwwn.cdc.gov/Nchs/Nhanes/2009-2010/CDQ_F.XPT\n",
      "https://wwwn.cdc.gov/Nchs/Nhanes/2009-2010/DIQ_F.XPT\n",
      "https://wwwn.cdc.gov/Nchs/Nhanes/2009-2010/DBQ_F.XPT\n",
      "https://wwwn.cdc.gov/Nchs/Nhanes/2009-2010/DPQ_F.XPT\n",
      "https://wwwn.cdc.gov/Nchs/Nhanes/2009-2010/KIQ_U_F.XPT\n",
      "https://wwwn.cdc.gov/Nchs/Nhanes/2009-2010/OCQ_F.XPT\n",
      "https://wwwn.cdc.gov/Nchs/Nhanes/2009-2010/OHQ_F.XPT\n",
      "https://wwwn.cdc.gov/Nchs/Nhanes/2009-2010/PAQ_F.XPT\n",
      "https://wwwn.cdc.gov/Nchs/Nhanes/2009-2010/PUQMEC_F.XPT\n",
      "https://wwwn.cdc.gov/Nchs/Nhanes/2009-2010/RHQ_F.XPT\n",
      "https://wwwn.cdc.gov/Nchs/Nhanes/2009-2010/SLQ_F.XPT\n",
      "https://wwwn.cdc.gov/Nchs/Nhanes/2009-2010/SMQ_F.XPT\n",
      "https://wwwn.cdc.gov/Nchs/Nhanes/2009-2010/WHQ_F.XPT\n",
      "https://wwwn.cdc.gov/Nchs/Nhanes/2009-2010/BMX_F.XPT\n",
      "https://wwwn.cdc.gov/Nchs/Nhanes/2009-2010/BPX_F.XPT\n",
      "https://wwwn.cdc.gov/Nchs/Nhanes/2009-2010/GLU_F.XPT\n",
      "https://wwwn.cdc.gov/Nchs/Nhanes/2009-2010/FASTQX_F.XPT\n",
      "https://wwwn.cdc.gov/Nchs/Nhanes/2009-2010/HDL_F.XPT\n",
      "https://wwwn.cdc.gov/Nchs/Nhanes/2009-2010/TRIGLY_F.XPT\n",
      "https://wwwn.cdc.gov/Nchs/Nhanes/2009-2010/TCHOL_F.XPT\n",
      "https://wwwn.cdc.gov/Nchs/Nhanes/2011-2012/DEMO_G.XPT\n",
      "https://wwwn.cdc.gov/Nchs/Nhanes/2011-2012/ALQ_G.XPT\n",
      "https://wwwn.cdc.gov/Nchs/Nhanes/2011-2012/BPQ_G.XPT\n",
      "https://wwwn.cdc.gov/Nchs/Nhanes/2011-2012/CDQ_G.XPT\n",
      "https://wwwn.cdc.gov/Nchs/Nhanes/2011-2012/DIQ_G.XPT\n",
      "https://wwwn.cdc.gov/Nchs/Nhanes/2011-2012/DBQ_G.XPT\n",
      "https://wwwn.cdc.gov/Nchs/Nhanes/2011-2012/DPQ_G.XPT\n",
      "https://wwwn.cdc.gov/Nchs/Nhanes/2011-2012/KIQ_U_G.XPT\n",
      "https://wwwn.cdc.gov/Nchs/Nhanes/2011-2012/OCQ_G.XPT\n",
      "https://wwwn.cdc.gov/Nchs/Nhanes/2011-2012/OHQ_G.XPT\n",
      "https://wwwn.cdc.gov/Nchs/Nhanes/2011-2012/PAQ_G.XPT\n",
      "https://wwwn.cdc.gov/Nchs/Nhanes/2011-2012/PUQMEC_G.XPT\n",
      "https://wwwn.cdc.gov/Nchs/Nhanes/2011-2012/RHQ_G.XPT\n",
      "https://wwwn.cdc.gov/Nchs/Nhanes/2011-2012/SLQ_G.XPT\n",
      "https://wwwn.cdc.gov/Nchs/Nhanes/2011-2012/SMQ_G.XPT\n",
      "https://wwwn.cdc.gov/Nchs/Nhanes/2011-2012/WHQ_G.XPT\n",
      "https://wwwn.cdc.gov/Nchs/Nhanes/2011-2012/BMX_G.XPT\n",
      "https://wwwn.cdc.gov/Nchs/Nhanes/2011-2012/BPX_G.XPT\n",
      "https://wwwn.cdc.gov/Nchs/Nhanes/2011-2012/GLU_G.XPT\n",
      "https://wwwn.cdc.gov/Nchs/Nhanes/2011-2012/FASTQX_G.XPT\n",
      "https://wwwn.cdc.gov/Nchs/Nhanes/2011-2012/HDL_G.XPT\n",
      "https://wwwn.cdc.gov/Nchs/Nhanes/2011-2012/TRIGLY_G.XPT\n",
      "https://wwwn.cdc.gov/Nchs/Nhanes/2011-2012/TCHOL_G.XPT\n",
      "https://wwwn.cdc.gov/Nchs/Nhanes/2013-2014/DEMO_H.XPT\n",
      "https://wwwn.cdc.gov/Nchs/Nhanes/2013-2014/ALQ_H.XPT\n",
      "https://wwwn.cdc.gov/Nchs/Nhanes/2013-2014/BPQ_H.XPT\n",
      "https://wwwn.cdc.gov/Nchs/Nhanes/2013-2014/CDQ_H.XPT\n",
      "https://wwwn.cdc.gov/Nchs/Nhanes/2013-2014/DIQ_H.XPT\n",
      "https://wwwn.cdc.gov/Nchs/Nhanes/2013-2014/DBQ_H.XPT\n",
      "https://wwwn.cdc.gov/Nchs/Nhanes/2013-2014/DPQ_H.XPT\n",
      "https://wwwn.cdc.gov/Nchs/Nhanes/2013-2014/KIQ_U_H.XPT\n",
      "https://wwwn.cdc.gov/Nchs/Nhanes/2013-2014/OCQ_H.XPT\n",
      "https://wwwn.cdc.gov/Nchs/Nhanes/2013-2014/OHQ_H.XPT\n",
      "https://wwwn.cdc.gov/Nchs/Nhanes/2013-2014/PAQ_H.XPT\n",
      "https://wwwn.cdc.gov/Nchs/Nhanes/2013-2014/PUQMEC_H.XPT\n",
      "https://wwwn.cdc.gov/Nchs/Nhanes/2013-2014/RHQ_H.XPT\n",
      "https://wwwn.cdc.gov/Nchs/Nhanes/2013-2014/SLQ_H.XPT\n",
      "https://wwwn.cdc.gov/Nchs/Nhanes/2013-2014/SMQ_H.XPT\n",
      "https://wwwn.cdc.gov/Nchs/Nhanes/2013-2014/WHQ_H.XPT\n",
      "https://wwwn.cdc.gov/Nchs/Nhanes/2013-2014/BMX_H.XPT\n",
      "https://wwwn.cdc.gov/Nchs/Nhanes/2013-2014/BPX_H.XPT\n",
      "https://wwwn.cdc.gov/Nchs/Nhanes/2013-2014/GLU_H.XPT\n",
      "https://wwwn.cdc.gov/Nchs/Nhanes/2013-2014/FASTQX_H.XPT\n",
      "https://wwwn.cdc.gov/Nchs/Nhanes/2013-2014/HDL_H.XPT\n",
      "https://wwwn.cdc.gov/Nchs/Nhanes/2013-2014/TRIGLY_H.XPT\n",
      "https://wwwn.cdc.gov/Nchs/Nhanes/2013-2014/TCHOL_H.XPT\n",
      "https://wwwn.cdc.gov/Nchs/Nhanes/2015-2016/DEMO_I.XPT\n",
      "https://wwwn.cdc.gov/Nchs/Nhanes/2015-2016/ALQ_I.XPT\n",
      "https://wwwn.cdc.gov/Nchs/Nhanes/2015-2016/BPQ_I.XPT\n",
      "https://wwwn.cdc.gov/Nchs/Nhanes/2015-2016/CDQ_I.XPT\n",
      "https://wwwn.cdc.gov/Nchs/Nhanes/2015-2016/DIQ_I.XPT\n",
      "https://wwwn.cdc.gov/Nchs/Nhanes/2015-2016/DBQ_I.XPT\n",
      "https://wwwn.cdc.gov/Nchs/Nhanes/2015-2016/DPQ_I.XPT\n",
      "https://wwwn.cdc.gov/Nchs/Nhanes/2015-2016/KIQ_U_I.XPT\n",
      "https://wwwn.cdc.gov/Nchs/Nhanes/2015-2016/OCQ_I.XPT\n",
      "https://wwwn.cdc.gov/Nchs/Nhanes/2015-2016/OHQ_I.XPT\n",
      "https://wwwn.cdc.gov/Nchs/Nhanes/2015-2016/PAQ_I.XPT\n",
      "https://wwwn.cdc.gov/Nchs/Nhanes/2015-2016/PUQMEC_I.XPT\n",
      "https://wwwn.cdc.gov/Nchs/Nhanes/2015-2016/RHQ_I.XPT\n",
      "https://wwwn.cdc.gov/Nchs/Nhanes/2015-2016/SLQ_I.XPT\n",
      "https://wwwn.cdc.gov/Nchs/Nhanes/2015-2016/SMQ_I.XPT\n",
      "https://wwwn.cdc.gov/Nchs/Nhanes/2015-2016/WHQ_I.XPT\n",
      "https://wwwn.cdc.gov/Nchs/Nhanes/2015-2016/BMX_I.XPT\n",
      "https://wwwn.cdc.gov/Nchs/Nhanes/2015-2016/BPX_I.XPT\n",
      "https://wwwn.cdc.gov/Nchs/Nhanes/2015-2016/GLU_I.XPT\n",
      "https://wwwn.cdc.gov/Nchs/Nhanes/2015-2016/FASTQX_I.XPT\n",
      "https://wwwn.cdc.gov/Nchs/Nhanes/2015-2016/HDL_I.XPT\n",
      "https://wwwn.cdc.gov/Nchs/Nhanes/2015-2016/TRIGLY_I.XPT\n",
      "https://wwwn.cdc.gov/Nchs/Nhanes/2015-2016/TCHOL_I.XPT\n",
      "https://wwwn.cdc.gov/Nchs/Nhanes/2017-2018/DEMO_J.XPT\n",
      "https://wwwn.cdc.gov/Nchs/Nhanes/2017-2018/ALQ_J.XPT\n",
      "https://wwwn.cdc.gov/Nchs/Nhanes/2017-2018/BPQ_J.XPT\n",
      "https://wwwn.cdc.gov/Nchs/Nhanes/2017-2018/CDQ_J.XPT\n",
      "https://wwwn.cdc.gov/Nchs/Nhanes/2017-2018/DIQ_J.XPT\n",
      "https://wwwn.cdc.gov/Nchs/Nhanes/2017-2018/DBQ_J.XPT\n",
      "https://wwwn.cdc.gov/Nchs/Nhanes/2017-2018/DPQ_J.XPT\n",
      "https://wwwn.cdc.gov/Nchs/Nhanes/2017-2018/KIQ_U_J.XPT\n",
      "https://wwwn.cdc.gov/Nchs/Nhanes/2017-2018/OCQ_J.XPT\n",
      "https://wwwn.cdc.gov/Nchs/Nhanes/2017-2018/OHQ_J.XPT\n",
      "https://wwwn.cdc.gov/Nchs/Nhanes/2017-2018/PAQ_J.XPT\n",
      "https://wwwn.cdc.gov/Nchs/Nhanes/2017-2018/PUQMEC_J.XPT\n",
      "https://wwwn.cdc.gov/Nchs/Nhanes/2017-2018/RHQ_J.XPT\n",
      "https://wwwn.cdc.gov/Nchs/Nhanes/2017-2018/SLQ_J.XPT\n",
      "https://wwwn.cdc.gov/Nchs/Nhanes/2017-2018/SMQ_J.XPT\n",
      "https://wwwn.cdc.gov/Nchs/Nhanes/2017-2018/WHQ_J.XPT\n",
      "https://wwwn.cdc.gov/Nchs/Nhanes/2017-2018/BMX_J.XPT\n",
      "https://wwwn.cdc.gov/Nchs/Nhanes/2017-2018/BPX_J.XPT\n",
      "https://wwwn.cdc.gov/Nchs/Nhanes/2017-2018/GLU_J.XPT\n",
      "https://wwwn.cdc.gov/Nchs/Nhanes/2017-2018/FASTQX_J.XPT\n",
      "https://wwwn.cdc.gov/Nchs/Nhanes/2017-2018/HDL_J.XPT\n",
      "https://wwwn.cdc.gov/Nchs/Nhanes/2017-2018/TRIGLY_J.XPT\n",
      "https://wwwn.cdc.gov/Nchs/Nhanes/2017-2018/TCHOL_J.XPT\n"
     ]
    }
   ],
   "source": [
    "nhanes = NHANES()\n",
    "nhanes.get()"
   ]
  },
  {
   "source": [
    "#### Save data"
   ],
   "cell_type": "markdown",
   "metadata": {}
  },
  {
   "cell_type": "code",
   "execution_count": 3,
   "metadata": {},
   "outputs": [],
   "source": [
    "nhanes.df.to_pickle('raw_data.pkl')"
   ]
  },
  {
   "cell_type": "code",
   "execution_count": 4,
   "metadata": {},
   "outputs": [
    {
     "output_type": "execute_result",
     "data": {
      "text/plain": [
       "Index(['DMDHREDU', 'RIDRETH1', 'SDDSRVYR', 'WTINT2YR', 'RIDAGEYR', 'RIAGENDR',\n",
       "       'ALQ150', 'BPQ020', 'BPQ080', 'CDQ010', 'CDQ001', 'DIQ010', 'DID040',\n",
       "       'DBQ197', 'DPQ060', 'DPQ020', 'DPQ090', 'KIQ005', 'KIQ022', 'OCD150',\n",
       "       'OCQ180', 'OHQ011', 'PUQ100', 'RHQ131', 'RHD143', 'SLD010H', 'SMQ020',\n",
       "       'SMQ040', 'WHD140', 'BMXLEG', 'BMXWAIST', 'BMXBMI', 'BMXARMC',\n",
       "       'BMXARML', 'BMXWT', 'BPXSY1', 'BPXSY3', 'BPXPLS', 'BPXDI3', 'BPXSY2',\n",
       "       'BPXDI2', 'BPXDI1', 'LBXGLU', 'PHAFSTHR', 'PHDSESN', 'LBDHDD', 'LBDLDL',\n",
       "       'LBXTR', 'LBXTC', 'Cycle', 'INDHHIN2', 'DBD900', 'DBD895', 'DBD905',\n",
       "       'DBD910', 'KIQ026', 'PAQ650', 'PAQ620', 'PAQ635', 'PAQ665', 'PAQ605',\n",
       "       'OHQ845', 'ALQ151', 'SLD012', 'DMDHREDZ'],\n",
       "      dtype='object')"
      ]
     },
     "metadata": {},
     "execution_count": 4
    }
   ],
   "source": [
    "nhanes.df.columns"
   ]
  },
  {
   "cell_type": "code",
   "execution_count": 5,
   "metadata": {},
   "outputs": [
    {
     "output_type": "stream",
     "name": "stdout",
     "text": [
      "<class 'pandas.core.frame.DataFrame'>\nFloat64Index: 70190 entries, 31127.0 to 102956.0\nData columns (total 65 columns):\n #   Column    Non-Null Count  Dtype  \n---  ------    --------------  -----  \n 0   DMDHREDU  59019 non-null  float64\n 1   RIDRETH1  70190 non-null  float64\n 2   SDDSRVYR  70190 non-null  float64\n 3   WTINT2YR  70190 non-null  float64\n 4   RIDAGEYR  70190 non-null  float64\n 5   RIAGENDR  70190 non-null  float64\n 6   ALQ150    12833 non-null  float64\n 7   BPQ020    44700 non-null  float64\n 8   BPQ080    36457 non-null  float64\n 9   CDQ010    26274 non-null  float64\n 10  CDQ001    26275 non-null  float64\n 11  DIQ010    67201 non-null  float64\n 12  DID040    5227 non-null   float64\n 13  DBQ197    67201 non-null  float64\n 14  DPQ060    36455 non-null  float64\n 15  DPQ020    36465 non-null  float64\n 16  DPQ090    36447 non-null  float64\n 17  KIQ005    34504 non-null  float64\n 18  KIQ022    39748 non-null  float64\n 19  OCD150    44693 non-null  float64\n 20  OCQ180    22789 non-null  float64\n 21  OHQ011    11791 non-null  float64\n 22  PUQ100    52790 non-null  float64\n 23  RHQ131    18496 non-null  float64\n 24  RHD143    5527 non-null   float64\n 25  SLD010H   32194 non-null  float64\n 26  SMQ020    40652 non-null  float64\n 27  SMQ040    17745 non-null  float64\n 28  WHD140    42011 non-null  float64\n 29  BMXLEG    50543 non-null  float64\n 30  BMXWAIST  58962 non-null  float64\n 31  BMXBMI    61640 non-null  float64\n 32  BMXARMC   63750 non-null  float64\n 33  BMXARML   63762 non-null  float64\n 34  BMXWT     66631 non-null  float64\n 35  BPXSY1    48719 non-null  float64\n 36  BPXSY3    48577 non-null  float64\n 37  BPXPLS    51365 non-null  float64\n 38  BPXDI3    48577 non-null  float64\n 39  BPXSY2    48907 non-null  float64\n 40  BPXDI2    48907 non-null  float64\n 41  BPXDI1    48719 non-null  float64\n 42  LBXGLU    21692 non-null  float64\n 43  PHAFSTHR  61909 non-null  float64\n 44  PHDSESN   64491 non-null  float64\n 45  LBDHDD    51200 non-null  float64\n 46  LBDLDL    20923 non-null  float64\n 47  LBXTR     21238 non-null  float64\n 48  LBXTC     51199 non-null  float64\n 49  Cycle     70190 non-null  int64  \n 50  INDHHIN2  58628 non-null  float64\n 51  DBD900    43092 non-null  float64\n 52  DBD895    56982 non-null  float64\n 53  DBD905    56916 non-null  float64\n 54  DBD910    56903 non-null  float64\n 55  KIQ026    34769 non-null  float64\n 56  PAQ650    41350 non-null  float64\n 57  PAQ620    41353 non-null  float64\n 58  PAQ635    41352 non-null  float64\n 59  PAQ665    41348 non-null  float64\n 60  PAQ605    41354 non-null  float64\n 61  OHQ845    42435 non-null  float64\n 62  ALQ151    17429 non-null  float64\n 63  SLD012    12407 non-null  float64\n 64  DMDHREDZ  8764 non-null   float64\ndtypes: float64(64), int64(1)\nmemory usage: 35.3 MB\n"
     ]
    }
   ],
   "source": [
    "nhanes.df.info()"
   ]
  },
  {
   "cell_type": "code",
   "execution_count": null,
   "metadata": {},
   "outputs": [],
   "source": []
  },
  {
   "cell_type": "code",
   "execution_count": null,
   "metadata": {},
   "outputs": [],
   "source": []
  }
 ]
}